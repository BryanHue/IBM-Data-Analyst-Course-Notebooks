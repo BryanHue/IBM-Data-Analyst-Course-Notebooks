{
 "cells": [
  {
   "cell_type": "code",
   "execution_count": 27,
   "id": "98d22ab0-cdb6-4879-9c1d-7e39904942a8",
   "metadata": {},
   "outputs": [],
   "source": [
    "import ibm_db"
   ]
  },
  {
   "cell_type": "code",
   "execution_count": 28,
   "id": "11b2c15a-ca89-43fb-9381-1cfa99f6688c",
   "metadata": {},
   "outputs": [],
   "source": [
    "#Replace the placeholder values with your actual Db2 hostname, username, and password:\n",
    "dsn_hostname = \"2f3279a5-73d1-4859-88f0-a6c3e6b4b907.c3n41cmd0nqnrk39u98g.databases.appdomain.cloud\" # e.g.: \"54a2f15b-5c0f-46df-8954-7e38e612c2bd.c1ogj3sd0tgtu0lqde00.databases.appdomain.cloud\"\n",
    "dsn_uid = \"kgm97129\"        # e.g. \"abc12345\"\n",
    "dsn_pwd = \"az9as6m7j5EtkyEm\"      # e.g. \"7dBZ3wWt9XN6$o0J\"\n",
    "\n",
    "dsn_driver = \"{IBM DB2 ODBC DRIVER}\"\n",
    "dsn_database = \"BLUDB\"            # e.g. \"BLUDB\"\n",
    "dsn_port = \"30756\"                # e.g. \"32733\" \n",
    "dsn_protocol = \"TCPIP\"            # i.e. \"TCPIP\"\n",
    "dsn_security = \"SSL\"              #i.e. \"SSL\""
   ]
  },
  {
   "cell_type": "code",
   "execution_count": 29,
   "id": "540ec38c-d6b6-4069-b6e3-a517ad3a7886",
   "metadata": {},
   "outputs": [
    {
     "name": "stdout",
     "output_type": "stream",
     "text": [
      "Connected to database:  BLUDB as user:  kgm97129 on host:  2f3279a5-73d1-4859-88f0-a6c3e6b4b907.c3n41cmd0nqnrk39u98g.databases.appdomain.cloud\n"
     ]
    }
   ],
   "source": [
    "#Create database connection\n",
    "#DO NOT MODIFY THIS CELL. Just RUN it with Shift + Enter\n",
    "dsn = (\n",
    "    \"DRIVER={0};\"\n",
    "    \"DATABASE={1};\"\n",
    "    \"HOSTNAME={2};\"\n",
    "    \"PORT={3};\"\n",
    "    \"PROTOCOL={4};\"\n",
    "    \"UID={5};\"\n",
    "    \"PWD={6};\"\n",
    "    \"SECURITY={7};\").format(dsn_driver, dsn_database, dsn_hostname, dsn_port, dsn_protocol, dsn_uid, dsn_pwd,dsn_security)\n",
    "\n",
    "try:\n",
    "    conn = ibm_db.connect(dsn, \"\", \"\")\n",
    "    print (\"Connected to database: \", dsn_database, \"as user: \", dsn_uid, \"on host: \", dsn_hostname)\n",
    "\n",
    "except:\n",
    "    print (\"Unable to connect: \", ibm_db.conn_errormsg() )\n"
   ]
  },
  {
   "cell_type": "code",
   "execution_count": 30,
   "id": "311f391b-9278-4471-9b73-b2605da7b03a",
   "metadata": {},
   "outputs": [],
   "source": [
    "#Lets first drop the table INSTRUCTOR in case it exists from a previous attempt\n",
    "dropQuery = \"drop table INSTRUCTOR\"\n",
    "\n",
    "#Now execute the drop statment\n",
    "dropStmt = ibm_db.exec_immediate(conn, dropQuery)"
   ]
  },
  {
   "cell_type": "code",
   "execution_count": 31,
   "id": "9468df82-e0d8-4209-8372-06a0ec522d53",
   "metadata": {},
   "outputs": [],
   "source": [
    "createQuery = \"create table INSTRUCTOR(ID INTEGER PRIMARY KEY NOT NULL, FNAME VARCHAR(20), LNAME VARCHAR(20), CITY VARCHAR(20), CCODE CHAR(2))\"\n",
    "\n",
    "createStmt = ibm_db.exec_immediate(conn,createQuery)\n"
   ]
  },
  {
   "cell_type": "code",
   "execution_count": 32,
   "id": "b02c3b92-e2b3-43ba-8dff-364593860b41",
   "metadata": {},
   "outputs": [],
   "source": [
    "insertQuery = \"insert into INSTRUCTOR values (1, 'Rav', 'Ahuja', 'TORONTO', 'CA') \"\n",
    "\n",
    "insertStmt = ibm_db.exec_immediate(conn, insertQuery)"
   ]
  },
  {
   "cell_type": "code",
   "execution_count": 33,
   "id": "226f7cf6-e748-48db-a59a-2c031a863297",
   "metadata": {},
   "outputs": [],
   "source": [
    "insertQuery2 = \"insert into INSTRUCTOR values (2, 'Raul', 'Chong', 'Markham', 'CA'), (3, 'Hima', 'Vasudevan', 'Chicago', 'US') \"\n",
    "\n",
    "insertStmt2 = ibm_db.exec_immediate(conn, insertQuery2)"
   ]
  },
  {
   "cell_type": "code",
   "execution_count": 34,
   "id": "a2685c65-c3a6-4e82-b632-50eed8a5dacd",
   "metadata": {},
   "outputs": [
    {
     "data": {
      "text/plain": [
       "{'ID': 1,\n",
       " 0: 1,\n",
       " 'FNAME': 'Rav',\n",
       " 1: 'Rav',\n",
       " 'LNAME': 'Ahuja',\n",
       " 2: 'Ahuja',\n",
       " 'CITY': 'TORONTO',\n",
       " 3: 'TORONTO',\n",
       " 'CCODE': 'CA',\n",
       " 4: 'CA'}"
      ]
     },
     "execution_count": 34,
     "metadata": {},
     "output_type": "execute_result"
    }
   ],
   "source": [
    "selectQuery = \"select * from INSTRUCTOR\"\n",
    "\n",
    "selectStmt = ibm_db.exec_immediate(conn, selectQuery)\n",
    "\n",
    "ibm_db.fetch_both(selectStmt)"
   ]
  },
  {
   "cell_type": "code",
   "execution_count": 35,
   "id": "5b6e2bdf-fc3f-4867-9f21-2f9afe1886df",
   "metadata": {},
   "outputs": [
    {
     "name": "stdout",
     "output_type": "stream",
     "text": [
      " ID: 2  FNAME: Raul\n",
      " ID: 3  FNAME: Hima\n"
     ]
    }
   ],
   "source": [
    "#Fetch the rest of the rows and print the ID and FNAME for those rows\n",
    "while ibm_db.fetch_row(selectStmt) != False:\n",
    "   print (\" ID:\",  ibm_db.result(selectStmt, 0), \" FNAME:\",  ibm_db.result(selectStmt, \"FNAME\"))"
   ]
  },
  {
   "cell_type": "code",
   "execution_count": 39,
   "id": "9f91eb3d-6b04-4dae-8bce-90da05b4a640",
   "metadata": {},
   "outputs": [],
   "source": [
    "updateQuery = \"update INSTRUCTOR SET CITY = 'MOOSETOWN' where FNAME = 'Rav'\"\n",
    "\n",
    "updateStmt = ibm_db.exec_immediate(conn, updateQuery)"
   ]
  },
  {
   "cell_type": "code",
   "execution_count": 50,
   "id": "b24ac68b-3c44-463a-b45b-5c267cf0a4a4",
   "metadata": {},
   "outputs": [
    {
     "data": {
      "text/plain": [
       "{'ID': 1,\n",
       " 0: 1,\n",
       " 'FNAME': 'Rav',\n",
       " 1: 'Rav',\n",
       " 'LNAME': 'Ahuja',\n",
       " 2: 'Ahuja',\n",
       " 'CITY': 'MOOSETOWN',\n",
       " 3: 'MOOSETOWN',\n",
       " 'CCODE': 'CA',\n",
       " 4: 'CA'}"
      ]
     },
     "execution_count": 50,
     "metadata": {},
     "output_type": "execute_result"
    }
   ],
   "source": [
    "selectQuery2 = \"select * from INSTRUCTOR\"\n",
    "\n",
    "selectStmt2 = ibm_db.exec_immediate(conn, selectQuery2)\n",
    "\n",
    "ibm_db.fetch_both(selectStmt2)"
   ]
  },
  {
   "cell_type": "code",
   "execution_count": 51,
   "id": "b77e9c59-9cde-4ed4-8389-6cea23a0e4c0",
   "metadata": {},
   "outputs": [],
   "source": [
    "import pandas\n",
    "import ibm_db_dbi"
   ]
  },
  {
   "cell_type": "code",
   "execution_count": 53,
   "id": "7a4bca4c-6cfb-410f-881e-b676d18d1826",
   "metadata": {},
   "outputs": [],
   "source": [
    "pconn = ibm_db_dbi.Connection(conn)"
   ]
  },
  {
   "cell_type": "code",
   "execution_count": 54,
   "id": "6200fac3-c41d-4d01-a6b0-7a79ee3f30f0",
   "metadata": {},
   "outputs": [
    {
     "ename": "TypeError",
     "evalue": "'Series' object is not callable",
     "output_type": "error",
     "traceback": [
      "\u001b[0;31m---------------------------------------------------------------------------\u001b[0m",
      "\u001b[0;31mTypeError\u001b[0m                                 Traceback (most recent call last)",
      "\u001b[0;32m/tmp/ipykernel_1062/1207590912.py\u001b[0m in \u001b[0;36m<module>\u001b[0;34m\u001b[0m\n\u001b[1;32m      3\u001b[0m \u001b[0mpdf\u001b[0m \u001b[0;34m=\u001b[0m \u001b[0mpandas\u001b[0m\u001b[0;34m.\u001b[0m\u001b[0mread_sql\u001b[0m\u001b[0;34m(\u001b[0m\u001b[0mselectQuery\u001b[0m\u001b[0;34m,\u001b[0m \u001b[0mpconn\u001b[0m\u001b[0;34m)\u001b[0m\u001b[0;34m\u001b[0m\u001b[0;34m\u001b[0m\u001b[0m\n\u001b[1;32m      4\u001b[0m \u001b[0;34m\u001b[0m\u001b[0m\n\u001b[0;32m----> 5\u001b[0;31m \u001b[0mpdf\u001b[0m\u001b[0;34m.\u001b[0m\u001b[0mLNAME\u001b[0m\u001b[0;34m(\u001b[0m\u001b[0;36m0\u001b[0m\u001b[0;34m)\u001b[0m\u001b[0;34m\u001b[0m\u001b[0;34m\u001b[0m\u001b[0m\n\u001b[0m",
      "\u001b[0;31mTypeError\u001b[0m: 'Series' object is not callable"
     ]
    }
   ],
   "source": [
    "selectQuery = \"select * from INSTRUCTOR\"\n",
    "\n",
    "pdf = pandas.read_sql(selectQuery, pconn)\n",
    "\n",
    "pdf.LNAME(0)"
   ]
  },
  {
   "cell_type": "code",
   "execution_count": 55,
   "id": "4aa491d9-b6b2-433f-b33c-ef88102698f2",
   "metadata": {},
   "outputs": [
    {
     "data": {
      "text/html": [
       "<div>\n",
       "<style scoped>\n",
       "    .dataframe tbody tr th:only-of-type {\n",
       "        vertical-align: middle;\n",
       "    }\n",
       "\n",
       "    .dataframe tbody tr th {\n",
       "        vertical-align: top;\n",
       "    }\n",
       "\n",
       "    .dataframe thead th {\n",
       "        text-align: right;\n",
       "    }\n",
       "</style>\n",
       "<table border=\"1\" class=\"dataframe\">\n",
       "  <thead>\n",
       "    <tr style=\"text-align: right;\">\n",
       "      <th></th>\n",
       "      <th>ID</th>\n",
       "      <th>FNAME</th>\n",
       "      <th>LNAME</th>\n",
       "      <th>CITY</th>\n",
       "      <th>CCODE</th>\n",
       "    </tr>\n",
       "  </thead>\n",
       "  <tbody>\n",
       "    <tr>\n",
       "      <th>0</th>\n",
       "      <td>1</td>\n",
       "      <td>Rav</td>\n",
       "      <td>Ahuja</td>\n",
       "      <td>MOOSETOWN</td>\n",
       "      <td>CA</td>\n",
       "    </tr>\n",
       "    <tr>\n",
       "      <th>1</th>\n",
       "      <td>2</td>\n",
       "      <td>Raul</td>\n",
       "      <td>Chong</td>\n",
       "      <td>Markham</td>\n",
       "      <td>CA</td>\n",
       "    </tr>\n",
       "    <tr>\n",
       "      <th>2</th>\n",
       "      <td>3</td>\n",
       "      <td>Hima</td>\n",
       "      <td>Vasudevan</td>\n",
       "      <td>Chicago</td>\n",
       "      <td>US</td>\n",
       "    </tr>\n",
       "  </tbody>\n",
       "</table>\n",
       "</div>"
      ],
      "text/plain": [
       "   ID FNAME      LNAME       CITY CCODE\n",
       "0   1   Rav      Ahuja  MOOSETOWN    CA\n",
       "1   2  Raul      Chong    Markham    CA\n",
       "2   3  Hima  Vasudevan    Chicago    US"
      ]
     },
     "execution_count": 55,
     "metadata": {},
     "output_type": "execute_result"
    }
   ],
   "source": [
    "#print the entire data frame\n",
    "pdf"
   ]
  },
  {
   "cell_type": "code",
   "execution_count": null,
   "id": "bc9bad4a-18aa-4801-b448-ebd20e135926",
   "metadata": {},
   "outputs": [],
   "source": [
    "pdf.shape"
   ]
  },
  {
   "cell_type": "code",
   "execution_count": 57,
   "id": "e16fe868-eb05-4104-808a-a40c739c52cf",
   "metadata": {},
   "outputs": [
    {
     "data": {
      "text/plain": [
       "True"
      ]
     },
     "execution_count": 57,
     "metadata": {},
     "output_type": "execute_result"
    }
   ],
   "source": [
    "ibm_db.close(conn)"
   ]
  },
  {
   "cell_type": "code",
   "execution_count": null,
   "id": "5528195c-01ec-4267-be14-cedad6956269",
   "metadata": {},
   "outputs": [],
   "source": []
  }
 ],
 "metadata": {
  "kernelspec": {
   "display_name": "Python",
   "language": "python",
   "name": "conda-env-python-py"
  },
  "language_info": {
   "codemirror_mode": {
    "name": "ipython",
    "version": 3
   },
   "file_extension": ".py",
   "mimetype": "text/x-python",
   "name": "python",
   "nbconvert_exporter": "python",
   "pygments_lexer": "ipython3",
   "version": "3.7.12"
  }
 },
 "nbformat": 4,
 "nbformat_minor": 5
}
